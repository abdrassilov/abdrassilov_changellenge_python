{
 "cells": [
  {
   "cell_type": "markdown",
   "metadata": {},
   "source": [
    "### Практическое задание 1 к уроку 11 \"Двумерные объекты\""
   ]
  },
  {
   "cell_type": "code",
   "execution_count": 5,
   "metadata": {},
   "outputs": [
    {
     "name": "stdout",
     "output_type": "stream",
     "text": [
      "76\n"
     ]
    }
   ],
   "source": [
    "a5 = list(range(1,27))\n",
    "a6 = list(range(27,53))\n",
    "a7 = list(range(53,83))\n",
    "\n",
    "a8 = [a5,a6,a7]\n",
    "\n",
    "print(a8[2][23])"
   ]
  },
  {
   "cell_type": "markdown",
   "metadata": {},
   "source": [
    "### Практическое задание 2 к уроку 11 \"Двумерные объекты\""
   ]
  },
  {
   "cell_type": "code",
   "execution_count": 6,
   "metadata": {},
   "outputs": [
    {
     "name": "stdout",
     "output_type": "stream",
     "text": [
      "18\n"
     ]
    }
   ],
   "source": [
    "a9  = list(range(0,15))\n",
    "a10 = list(range(0,15))\n",
    "a11 = list(range(0,15))\n",
    "a12 = list(range(0,15))\n",
    "a13 = list(range(0,15))\n",
    "\n",
    "a15 = [a9,a10,a11,a12,a13]\n",
    "\n",
    "for i in range(0,5):\n",
    "    for j in range(0,15):\n",
    "        a15[i][j] *= 2\n",
    "# print(a15)\n",
    "print(a15[4][9])"
   ]
  },
  {
   "cell_type": "markdown",
   "metadata": {},
   "source": [
    "### Практическое задание 3 к уроку 11 \"Двумерные объекты\""
   ]
  },
  {
   "cell_type": "code",
   "execution_count": 7,
   "metadata": {},
   "outputs": [
    {
     "name": "stdout",
     "output_type": "stream",
     "text": [
      "50\n"
     ]
    }
   ],
   "source": [
    "a16 = []\n",
    "a18 = 0\n",
    "\n",
    "for i in range(0,5):\n",
    "    row = []\n",
    "    for j in range(0,5):\n",
    "        row.append(1)\n",
    "    a16.append(row)\n",
    "# print(a16) - sanity check\n",
    "\n",
    "for x in range(0,5):\n",
    "    for y in range(0,5):\n",
    "        a16[x][y] *= 2\n",
    "# print(a16) - sanity check\n",
    "\n",
    "for q in range(0,5):\n",
    "    for w in range(0,5):\n",
    "        if (a16[x][y] % 2 == 0):\n",
    "            a18 = a18 + a16[x][y]\n",
    "print(a18)"
   ]
  }
 ],
 "metadata": {
  "kernelspec": {
   "display_name": "Python 3",
   "language": "python",
   "name": "python3"
  },
  "language_info": {
   "codemirror_mode": {
    "name": "ipython",
    "version": 3
   },
   "file_extension": ".py",
   "mimetype": "text/x-python",
   "name": "python",
   "nbconvert_exporter": "python",
   "pygments_lexer": "ipython3",
   "version": "3.8.5"
  }
 },
 "nbformat": 4,
 "nbformat_minor": 4
}
