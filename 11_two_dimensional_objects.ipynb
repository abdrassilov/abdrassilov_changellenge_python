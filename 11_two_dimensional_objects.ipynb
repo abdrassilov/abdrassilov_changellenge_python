{
 "cells": [
  {
   "cell_type": "markdown",
   "metadata": {},
   "source": [
    "### Практическое задание 1 к уроку 12 \"Функции\""
   ]
  },
  {
   "cell_type": "code",
   "execution_count": 8,
   "metadata": {},
   "outputs": [
    {
     "data": {
      "text/plain": [
       "15"
      ]
     },
     "execution_count": 8,
     "metadata": {},
     "output_type": "execute_result"
    }
   ],
   "source": [
    "def y(x):\n",
    "    \n",
    "    y = pow(x,2)+(2*x)+7\n",
    "    \n",
    "    return y\n",
    "\n",
    "y(2)"
   ]
  },
  {
   "cell_type": "markdown",
   "metadata": {},
   "source": [
    "### Практическое задание 2 к уроку 12 \"Функции\""
   ]
  },
  {
   "cell_type": "code",
   "execution_count": 9,
   "metadata": {},
   "outputs": [
    {
     "name": "stdout",
     "output_type": "stream",
     "text": [
      "1 1\n",
      "4 5\n",
      "7 12\n",
      "13 25\n",
      "13 38\n"
     ]
    },
    {
     "data": {
      "text/plain": [
       "38"
      ]
     },
     "execution_count": 9,
     "metadata": {},
     "output_type": "execute_result"
    }
   ],
   "source": [
    "def y1(x):\n",
    "    \n",
    "    summ = 0\n",
    "    \n",
    "    for i in x:\n",
    "        if (i % 3 == 1):\n",
    "            \n",
    "            summ += i\n",
    "            print(i, summ)\n",
    "    return summ\n",
    "\n",
    "x = [1,4,6,7,9,13,35,13,14,77,324]\n",
    "y1(x)"
   ]
  },
  {
   "cell_type": "markdown",
   "metadata": {},
   "source": [
    "### Практическое задание 3 к уроку 12 \"Функции\""
   ]
  },
  {
   "cell_type": "code",
   "execution_count": 10,
   "metadata": {},
   "outputs": [
    {
     "name": "stdout",
     "output_type": "stream",
     "text": [
      "1 sum =  1\n",
      "4 sum =  5\n",
      "7 sum =  12\n",
      "13 sum =  25\n",
      "13 sum =  38\n",
      "Илья non =  1\n",
      "True non =  2\n"
     ]
    },
    {
     "data": {
      "text/plain": [
       "38"
      ]
     },
     "execution_count": 10,
     "metadata": {},
     "output_type": "execute_result"
    }
   ],
   "source": [
    "def y2(x):\n",
    "    \n",
    "    summ = 0\n",
    "    non = 0\n",
    "    \n",
    "    for i in x:\n",
    "        if (type(i) != bool) and (type(i) != str):\n",
    "            if (i % 3 == 1):\n",
    "                summ += i\n",
    "                print(i, 'sum = ', summ)\n",
    "        else:\n",
    "            non +=1\n",
    "            print(i, 'non = ', non)\n",
    "                \n",
    "            \n",
    "    return summ\n",
    "\n",
    "x = [1,4,6,7,9,13,35,13,14,77,324, 'Илья', True]\n",
    "y2(x)"
   ]
  }
 ],
 "metadata": {
  "kernelspec": {
   "display_name": "Python 3",
   "language": "python",
   "name": "python3"
  },
  "language_info": {
   "codemirror_mode": {
    "name": "ipython",
    "version": 3
   },
   "file_extension": ".py",
   "mimetype": "text/x-python",
   "name": "python",
   "nbconvert_exporter": "python",
   "pygments_lexer": "ipython3",
   "version": "3.8.5"
  }
 },
 "nbformat": 4,
 "nbformat_minor": 4
}
